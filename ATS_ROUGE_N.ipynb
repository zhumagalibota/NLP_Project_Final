{
  "nbformat": 4,
  "nbformat_minor": 0,
  "metadata": {
    "colab": {
      "provenance": []
    },
    "kernelspec": {
      "name": "python3",
      "display_name": "Python 3"
    },
    "language_info": {
      "name": "python"
    }
  },
  "cells": [
    {
      "cell_type": "code",
      "source": [
        "text = \"\"\"Cell biology is the study of cell structure and function, and it revolves around the concept that the cell is the fundamental unit of life. Focusing on the cell permits a detailed understanding of the tissues and organisms that cells compose. Some organisms have only one cell, while others are organized into cooperative groups with huge numbers of cells. On the whole, cell biology focuses on the structure and function of a cell, from the most general properties shared by all cells, to the unique, highly intricate functions particular to specialized cells.\n",
        "\n",
        "The starting point for this discipline might be considered the 1830s. Though scientists had been using microscopes for centuries, they were not always sure what they were looking at. Robert Hooke's initial observation in 1665 of plant-cell walls in slices of cork was followed shortly by Antonie van Leeuwenhoek's first descriptions of live cells with visibly moving parts. In the 1830s two scientists who were colleagues — Schleiden, looking at plant cells, and Schwann, looking first at animal cells — provided the first clearly stated definition of the cell. Their definition stated that that all living creatures, both simple and complex, are made out of one or more cells, and the cell is the structural and functional unit of life — a concept that became known as cell theory.\n",
        "\n",
        "As microscopes and staining techniques improved over the nineteenth and twentieth centuries, scientists were able to see more and more internal detail within cells. The microscopes used by van Leeuwenhoek probably magnified specimens a few hundredfold. Today high-powered electron microscopes can magnify specimens more than a million times and can reveal the shapes of organelles at the scale of a micrometer and below. With confocal microscopy a series of images can be combined, allowing researchers to generate detailed three-dimensional representations of cells. These improved imaging techniques have helped us better understand the wonderful complexity of cells and the structures they form.\n",
        "\n",
        "There are several main subfields within cell biology. One is the study of cell energy and the biochemical mechanisms that support cell metabolism. As cells are machines unto themselves, the focus on cell energy overlaps with the pursuit of questions of how energy first arose in original primordial cells, billions of years ago. Another subfield of cell biology concerns the genetics of the cell and its tight interconnection with the proteins controlling the release of genetic information from the nucleus to the cell cytoplasm. Yet another subfield focuses on the structure of cell components, known as subcellular compartments. Cutting across many biological disciplines is the additional subfield of cell biology, concerned with cell communication and signaling, concentrating on the messages that cells give to and receive from other cells and themselves. And finally, there is the subfield primarily concerned with the cell cycle, the rotation of phases beginning and ending with cell division and focused on different periods of growth and DNA replication. Many cell biologists dwell at the intersection of two or more of these subfields as our ability to analyze cells in more complex ways expands.\n",
        "\n",
        "In line with continually increasing interdisciplinary study, the recent emergence of systems biology has affected many biological disciplines; it is a methodology that encourages the analysis of living systems within the context of other systems. In the field of cell biology, systems biology has enabled the asking and answering of more complex questions, such as the interrelationships of gene regulatory networks, evolutionary relationships between genomes, and the interactions between intracellular signaling networks. Ultimately, the broader a lens we take on our discoveries in cell biology, the more likely we can decipher the complexities of all living systems, large and small.\n",
        "\"\"\""
      ],
      "metadata": {
        "id": "mukBNbHxRqNO"
      },
      "execution_count": 3,
      "outputs": []
    },
    {
      "cell_type": "code",
      "source": [
        "reference_summary = \"\"\"Cell biology is the study of cell structure and function, focusing on the cell as the fundamental unit of life. It involves understanding how cells form tissues and organisms. Some organisms consist of one cell, while others have cooperative groups of many cells. The field examines the general properties shared by all cells and the unique functions of specialized cells.\n",
        "\n",
        "Cell biology's origins trace back to the 1830s, with early observations by Robert Hooke and Antonie van Leeuwenhoek. In the 1830s, Schleiden and Schwann defined the cell, establishing the foundation of cell theory, which states that all living creatures are made of cells, and the cell is the unit of life.\n",
        "\n",
        "Advancements in microscopy and staining techniques, from Hooke's early microscope to today's electron microscopes, have allowed scientists to study cells in greater detail. With these technologies, we can now observe organelles and generate three-dimensional representations of cells.\n",
        "\n",
        "Key subfields within cell biology include cell energy and metabolism, genetics and protein regulation, subcellular compartments, cell communication, and the cell cycle. Additionally, systems biology, which emerged recently, has allowed scientists to explore complex questions about gene networks, genomes, and intracellular signaling.\n",
        "\n",
        "By expanding our understanding through interdisciplinary approaches, cell biology helps decipher the complexities of living systems.\"\"\""
      ],
      "metadata": {
        "id": "Z4L9Z2NA2w4s"
      },
      "execution_count": 4,
      "outputs": []
    },
    {
      "cell_type": "code",
      "source": [
        "!pip install spacy"
      ],
      "metadata": {
        "colab": {
          "base_uri": "https://localhost:8080/"
        },
        "collapsed": true,
        "id": "qlunxRBGnzWU",
        "outputId": "b0fcc121-ab62-4cb8-9dac-68063d1be6f5"
      },
      "execution_count": 1,
      "outputs": [
        {
          "output_type": "stream",
          "name": "stdout",
          "text": [
            "Requirement already satisfied: spacy in /usr/local/lib/python3.10/dist-packages (3.7.5)\n",
            "Requirement already satisfied: spacy-legacy<3.1.0,>=3.0.11 in /usr/local/lib/python3.10/dist-packages (from spacy) (3.0.12)\n",
            "Requirement already satisfied: spacy-loggers<2.0.0,>=1.0.0 in /usr/local/lib/python3.10/dist-packages (from spacy) (1.0.5)\n",
            "Requirement already satisfied: murmurhash<1.1.0,>=0.28.0 in /usr/local/lib/python3.10/dist-packages (from spacy) (1.0.10)\n",
            "Requirement already satisfied: cymem<2.1.0,>=2.0.2 in /usr/local/lib/python3.10/dist-packages (from spacy) (2.0.8)\n",
            "Requirement already satisfied: preshed<3.1.0,>=3.0.2 in /usr/local/lib/python3.10/dist-packages (from spacy) (3.0.9)\n",
            "Requirement already satisfied: thinc<8.3.0,>=8.2.2 in /usr/local/lib/python3.10/dist-packages (from spacy) (8.2.5)\n",
            "Requirement already satisfied: wasabi<1.2.0,>=0.9.1 in /usr/local/lib/python3.10/dist-packages (from spacy) (1.1.3)\n",
            "Requirement already satisfied: srsly<3.0.0,>=2.4.3 in /usr/local/lib/python3.10/dist-packages (from spacy) (2.4.8)\n",
            "Requirement already satisfied: catalogue<2.1.0,>=2.0.6 in /usr/local/lib/python3.10/dist-packages (from spacy) (2.0.10)\n",
            "Requirement already satisfied: weasel<0.5.0,>=0.1.0 in /usr/local/lib/python3.10/dist-packages (from spacy) (0.4.1)\n",
            "Requirement already satisfied: typer<1.0.0,>=0.3.0 in /usr/local/lib/python3.10/dist-packages (from spacy) (0.13.0)\n",
            "Requirement already satisfied: tqdm<5.0.0,>=4.38.0 in /usr/local/lib/python3.10/dist-packages (from spacy) (4.66.6)\n",
            "Requirement already satisfied: requests<3.0.0,>=2.13.0 in /usr/local/lib/python3.10/dist-packages (from spacy) (2.32.3)\n",
            "Requirement already satisfied: pydantic!=1.8,!=1.8.1,<3.0.0,>=1.7.4 in /usr/local/lib/python3.10/dist-packages (from spacy) (2.9.2)\n",
            "Requirement already satisfied: jinja2 in /usr/local/lib/python3.10/dist-packages (from spacy) (3.1.4)\n",
            "Requirement already satisfied: setuptools in /usr/local/lib/python3.10/dist-packages (from spacy) (75.1.0)\n",
            "Requirement already satisfied: packaging>=20.0 in /usr/local/lib/python3.10/dist-packages (from spacy) (24.2)\n",
            "Requirement already satisfied: langcodes<4.0.0,>=3.2.0 in /usr/local/lib/python3.10/dist-packages (from spacy) (3.4.1)\n",
            "Requirement already satisfied: numpy>=1.19.0 in /usr/local/lib/python3.10/dist-packages (from spacy) (1.26.4)\n",
            "Requirement already satisfied: language-data>=1.2 in /usr/local/lib/python3.10/dist-packages (from langcodes<4.0.0,>=3.2.0->spacy) (1.2.0)\n",
            "Requirement already satisfied: annotated-types>=0.6.0 in /usr/local/lib/python3.10/dist-packages (from pydantic!=1.8,!=1.8.1,<3.0.0,>=1.7.4->spacy) (0.7.0)\n",
            "Requirement already satisfied: pydantic-core==2.23.4 in /usr/local/lib/python3.10/dist-packages (from pydantic!=1.8,!=1.8.1,<3.0.0,>=1.7.4->spacy) (2.23.4)\n",
            "Requirement already satisfied: typing-extensions>=4.6.1 in /usr/local/lib/python3.10/dist-packages (from pydantic!=1.8,!=1.8.1,<3.0.0,>=1.7.4->spacy) (4.12.2)\n",
            "Requirement already satisfied: charset-normalizer<4,>=2 in /usr/local/lib/python3.10/dist-packages (from requests<3.0.0,>=2.13.0->spacy) (3.4.0)\n",
            "Requirement already satisfied: idna<4,>=2.5 in /usr/local/lib/python3.10/dist-packages (from requests<3.0.0,>=2.13.0->spacy) (3.10)\n",
            "Requirement already satisfied: urllib3<3,>=1.21.1 in /usr/local/lib/python3.10/dist-packages (from requests<3.0.0,>=2.13.0->spacy) (2.2.3)\n",
            "Requirement already satisfied: certifi>=2017.4.17 in /usr/local/lib/python3.10/dist-packages (from requests<3.0.0,>=2.13.0->spacy) (2024.8.30)\n",
            "Requirement already satisfied: blis<0.8.0,>=0.7.8 in /usr/local/lib/python3.10/dist-packages (from thinc<8.3.0,>=8.2.2->spacy) (0.7.11)\n",
            "Requirement already satisfied: confection<1.0.0,>=0.0.1 in /usr/local/lib/python3.10/dist-packages (from thinc<8.3.0,>=8.2.2->spacy) (0.1.5)\n",
            "Requirement already satisfied: click>=8.0.0 in /usr/local/lib/python3.10/dist-packages (from typer<1.0.0,>=0.3.0->spacy) (8.1.7)\n",
            "Requirement already satisfied: shellingham>=1.3.0 in /usr/local/lib/python3.10/dist-packages (from typer<1.0.0,>=0.3.0->spacy) (1.5.4)\n",
            "Requirement already satisfied: rich>=10.11.0 in /usr/local/lib/python3.10/dist-packages (from typer<1.0.0,>=0.3.0->spacy) (13.9.4)\n",
            "Requirement already satisfied: cloudpathlib<1.0.0,>=0.7.0 in /usr/local/lib/python3.10/dist-packages (from weasel<0.5.0,>=0.1.0->spacy) (0.20.0)\n",
            "Requirement already satisfied: smart-open<8.0.0,>=5.2.1 in /usr/local/lib/python3.10/dist-packages (from weasel<0.5.0,>=0.1.0->spacy) (7.0.5)\n",
            "Requirement already satisfied: MarkupSafe>=2.0 in /usr/local/lib/python3.10/dist-packages (from jinja2->spacy) (3.0.2)\n",
            "Requirement already satisfied: marisa-trie>=0.7.7 in /usr/local/lib/python3.10/dist-packages (from language-data>=1.2->langcodes<4.0.0,>=3.2.0->spacy) (1.2.1)\n",
            "Requirement already satisfied: markdown-it-py>=2.2.0 in /usr/local/lib/python3.10/dist-packages (from rich>=10.11.0->typer<1.0.0,>=0.3.0->spacy) (3.0.0)\n",
            "Requirement already satisfied: pygments<3.0.0,>=2.13.0 in /usr/local/lib/python3.10/dist-packages (from rich>=10.11.0->typer<1.0.0,>=0.3.0->spacy) (2.18.0)\n",
            "Requirement already satisfied: wrapt in /usr/local/lib/python3.10/dist-packages (from smart-open<8.0.0,>=5.2.1->weasel<0.5.0,>=0.1.0->spacy) (1.16.0)\n",
            "Requirement already satisfied: mdurl~=0.1 in /usr/local/lib/python3.10/dist-packages (from markdown-it-py>=2.2.0->rich>=10.11.0->typer<1.0.0,>=0.3.0->spacy) (0.1.2)\n"
          ]
        }
      ]
    },
    {
      "cell_type": "code",
      "source": [
        "import spacy\n",
        "from spacy.lang.en.stop_words import STOP_WORDS\n",
        "from string import punctuation\n",
        "from heapq import nlargest\n",
        "from collections import Counter\n",
        "import re"
      ],
      "metadata": {
        "id": "ReIfToNopjNV"
      },
      "execution_count": 13,
      "outputs": []
    },
    {
      "cell_type": "code",
      "source": [
        "nlp = spacy.load(\"en_core_web_sm\")\n",
        "\n",
        "\n",
        "def summarize_text(text, compression_ratio=0.3):\n",
        "    try:\n",
        "        doc = nlp(text)\n",
        "        stopwords = list(STOP_WORDS)\n",
        "        word_frequencies = {}\n",
        "\n",
        "        # word frequencies\n",
        "        for word in doc:\n",
        "            if word.text.lower() not in stopwords and word.text.lower() not in punctuation:\n",
        "                word_frequencies[word.text.lower()] = word_frequencies.get(word.text.lower(), 0) + 1\n",
        "\n",
        "        max_frequency = max(word_frequencies.values(), default=1)\n",
        "        word_frequencies = {word: freq / max_frequency for word, freq in word_frequencies.items()}\n",
        "\n",
        "        # scoring\n",
        "        sentence_scores = {}\n",
        "        for sentence in doc.sents:\n",
        "            for word in sentence:\n",
        "                if word.text.lower() in word_frequencies:\n",
        "                    sentence_scores[sentence] = sentence_scores.get(sentence, 0) + word_frequencies[word.text.lower()]\n",
        "\n",
        "        # top sentences\n",
        "        select_length = int(len(list(doc.sents)) * compression_ratio)\n",
        "        summarized_sentences = nlargest(select_length, sentence_scores, key=sentence_scores.get)\n",
        "        summary = ' '.join([sentence.text for sentence in summarized_sentences])\n",
        "        return summary\n",
        "    except Exception as e:\n",
        "        print(f\"Error summarizing text: {e}\")\n",
        "        return text\n",
        "\n",
        "def rouge_n(reference, summary, n=1):\n",
        "    reference_tokens = re.findall(r'\\w+', reference.lower())\n",
        "    summary_tokens = re.findall(r'\\w+', summary.lower())\n",
        "\n",
        "    reference_ngrams = Counter([tuple(reference_tokens[i:i + n]) for i in range(len(reference_tokens) - n + 1)])\n",
        "    summary_ngrams = Counter([tuple(summary_tokens[i:i + n]) for i in range(len(summary_tokens) - n + 1)])\n",
        "\n",
        "    common_ngrams = reference_ngrams & summary_ngrams\n",
        "    common_count = sum(common_ngrams.values())\n",
        "\n",
        "    precision = common_count / (len(summary_ngrams) + 1e-9)\n",
        "    recall = common_count / (len(reference_ngrams) + 1e-9)\n",
        "    f1 = (2 * precision * recall) / (precision + recall + 1e-9)\n",
        "\n",
        "    return precision, recall, f1\n",
        "\n",
        "def rouge_l(reference, summary):\n",
        "    reference_tokens = reference.split()\n",
        "    summary_tokens = summary.split()\n",
        "\n",
        "    lcs_length = lcs(reference_tokens, summary_tokens)\n",
        "\n",
        "    precision = lcs_length / len(summary_tokens) if summary_tokens else 0\n",
        "    recall = lcs_length / len(reference_tokens) if reference_tokens else 0\n",
        "    f1 = (2 * precision * recall) / (precision + recall + 1e-9)  # Avoid division by zero\n",
        "\n",
        "    return precision, recall, f1\n",
        "\n",
        "def lcs(ref, hyp):\n",
        "    m, n = len(ref), len(hyp)\n",
        "    dp = [[0] * (n + 1) for _ in range(m + 1)]\n",
        "\n",
        "    for i in range(1, m + 1):\n",
        "        for j in range(1, n + 1):\n",
        "            if ref[i - 1] == hyp[j - 1]:\n",
        "                dp[i][j] = dp[i - 1][j - 1] + 1\n",
        "            else:\n",
        "                dp[i][j] = max(dp[i - 1][j], dp[i][j - 1])\n",
        "\n",
        "    return dp[m][n]\n",
        "\n",
        "\n",
        "generated_summary = summarize_text(text, compression_ratio=0.3)\n",
        "\n",
        "precision, recall, f1 = rouge_n(reference_summary, generated_summary, n=1)\n",
        "print(f\"ROUGE-1 Precision (Unigrams): {precision}, Recall: {recall}, F1: {f1}\")\n",
        "\n",
        "precision, recall, f1 = rouge_n(reference_summary, generated_summary, n=2)\n",
        "print(f\"ROUGE-2 Precision (Bigrams): {precision}, Recall: {recall}, F1: {f1}\")\n",
        "\n",
        "precision, recall, f1 = rouge_l(reference_summary, generated_summary)\n",
        "print(f\"ROUGE-L Precision: {precision}, Recall: {recall}, F1: {f1}\")\n",
        "\n"
      ],
      "metadata": {
        "colab": {
          "base_uri": "https://localhost:8080/"
        },
        "id": "vldJc3G-nyJg",
        "outputId": "11b3df81-2403-4f32-90f6-b57473a0a9e3"
      },
      "execution_count": 14,
      "outputs": [
        {
          "output_type": "stream",
          "name": "stdout",
          "text": [
            "ROUGE-1 Precision (Unigrams): 0.9396551724056926, Recall: 0.8449612403035275, F1: 0.889795917861491\n",
            "ROUGE-2 Precision (Bigrams): 0.2604166666653103, Recall: 0.2604166666653103, F1: 0.26041666616531034\n",
            "ROUGE-L Precision: 0.21524663677130046, Recall: 0.23300970873786409, F1: 0.2237762232770089\n"
          ]
        }
      ]
    },
    {
      "cell_type": "code",
      "source": [
        "print(generated_summary)"
      ],
      "metadata": {
        "colab": {
          "base_uri": "https://localhost:8080/"
        },
        "id": "G16aefDCo9pQ",
        "outputId": "bae5b90a-a45a-42b5-9a3e-2ea0dd73d7df"
      },
      "execution_count": 11,
      "outputs": [
        {
          "output_type": "stream",
          "name": "stdout",
          "text": [
            "On the whole, cell biology focuses on the structure and function of a cell, from the most general properties shared by all cells, to the unique, highly intricate functions particular to specialized cells.\n",
            "\n",
            " Cutting across many biological disciplines is the additional subfield of cell biology, concerned with cell communication and signaling, concentrating on the messages that cells give to and receive from other cells and themselves. Cell biology is the study of cell structure and function, and it revolves around the concept that the cell is the fundamental unit of life. Another subfield of cell biology concerns the genetics of the cell and its tight interconnection with the proteins controlling the release of genetic information from the nucleus to the cell cytoplasm. Their definition stated that that all living creatures, both simple and complex, are made out of one or more cells, and the cell is the structural and functional unit of life — a concept that became known as cell theory.\n",
            "\n",
            " In the 1830s two scientists who were colleagues — Schleiden, looking at plant cells, and Schwann, looking first at animal cells — provided the first clearly stated definition of the cell. As cells are machines unto themselves, the focus on cell energy overlaps with the pursuit of questions of how energy first arose in original primordial cells, billions of years ago.\n"
          ]
        }
      ]
    },
    {
      "cell_type": "code",
      "source": [
        "print(reference_summary)"
      ],
      "metadata": {
        "colab": {
          "base_uri": "https://localhost:8080/"
        },
        "id": "cLqqQkZgo_p-",
        "outputId": "942ddcd6-a78d-4199-f756-2c8b1698787b"
      },
      "execution_count": 12,
      "outputs": [
        {
          "output_type": "stream",
          "name": "stdout",
          "text": [
            "Cell biology is the study of cell structure and function, focusing on the cell as the fundamental unit of life. It involves understanding how cells form tissues and organisms. Some organisms consist of one cell, while others have cooperative groups of many cells. The field examines the general properties shared by all cells and the unique functions of specialized cells.\n",
            "\n",
            "Cell biology's origins trace back to the 1830s, with early observations by Robert Hooke and Antonie van Leeuwenhoek. In the 1830s, Schleiden and Schwann defined the cell, establishing the foundation of cell theory, which states that all living creatures are made of cells, and the cell is the unit of life.\n",
            "\n",
            "Advancements in microscopy and staining techniques, from Hooke's early microscope to today's electron microscopes, have allowed scientists to study cells in greater detail. With these technologies, we can now observe organelles and generate three-dimensional representations of cells.\n",
            "\n",
            "Key subfields within cell biology include cell energy and metabolism, genetics and protein regulation, subcellular compartments, cell communication, and the cell cycle. Additionally, systems biology, which emerged recently, has allowed scientists to explore complex questions about gene networks, genomes, and intracellular signaling.\n",
            "\n",
            "By expanding our understanding through interdisciplinary approaches, cell biology helps decipher the complexities of living systems.\n"
          ]
        }
      ]
    },
    {
      "cell_type": "code",
      "source": [
        "import matplotlib.pyplot as plt\n",
        "\n",
        "# ROUGE\n",
        "rouge_metrics = ['ROUGE-1 Precision', 'ROUGE-1 Recall', 'ROUGE-1 F1',\n",
        "                 'ROUGE-2 Precision', 'ROUGE-2 Recall', 'ROUGE-2 F1',\n",
        "                 'ROUGE-L Precision', 'ROUGE-L Recall', 'ROUGE-L F1']\n",
        "\n",
        "scores = [0.9397, 0.8450, 0.8898,  # ROUGE-1\n",
        "          0.2604, 0.2604, 0.2604,  # ROUGE-2\n",
        "          0.2152, 0.2330, 0.2238]  # ROUGE-L\n",
        "\n",
        "plt.figure(figsize=(10, 6))\n",
        "plt.barh(rouge_metrics, scores, color=['#808080'])\n",
        "\n",
        "plt.xlabel('Score')\n",
        "plt.title('ROUGE Evaluation Results')\n",
        "plt.xlim(0, 1.05)\n",
        "plt.xticks([i / 10 for i in range(11)])\n",
        "\n",
        "plt.tight_layout()\n",
        "plt.show()\n"
      ],
      "metadata": {
        "colab": {
          "base_uri": "https://localhost:8080/",
          "height": 607
        },
        "id": "T8d8v5zmslbn",
        "outputId": "e66e3d89-8b3b-475f-ee9d-ac222f742f0e"
      },
      "execution_count": 23,
      "outputs": [
        {
          "output_type": "display_data",
          "data": {
            "text/plain": [
              "<Figure size 1000x600 with 1 Axes>"
            ],
            "image/png": "[encoded data removed]"
          },
          "metadata": {}
        }
      ]
    }
  ]
}